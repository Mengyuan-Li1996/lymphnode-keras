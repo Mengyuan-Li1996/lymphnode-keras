{
 "cells": [
  {
   "cell_type": "code",
   "execution_count": 1,
   "id": "descending-prince",
   "metadata": {},
   "outputs": [],
   "source": [
    "import os\n",
    "import glob\n",
    "import xml.etree.ElementTree as ET\n",
    "\n",
    "import seaborn as sns\n",
    "import cv2\n",
    "import numpy as np\n",
    "import matplotlib.pyplot as plt\n",
    "\n",
    "from src.preprocessing.patching import Patching, Stitching, Annotations, Slide\n",
    "from src.utilities.utils import mask2rgb"
   ]
  },
  {
   "cell_type": "code",
   "execution_count": 2,
   "id": "paperback-wichita",
   "metadata": {},
   "outputs": [],
   "source": [
    "STEP=512\n",
    "MAG_LEVEL=2\n",
    "SIZE=(1500,1500)\n",
    "\n",
    "WSI_MASK_PATH='/Users/gregoryverghese/Projects/lymphnode-keras/lymphnode-keras/output/wsi_mask'\n",
    "GERMINAL_PATH='/Users/gregoryverghese/Projects/lymphnode-keras/lymphnode-keras/output/germinal'\n",
    "SINUS_PATH='/Users/gregoryverghese/Projects/lymphnode-keras/lymphnode-keras/output/sinus'\n",
    "\n",
    "wsi_paths='/Users/gregoryverghese/Projects/lymphnode-keras/lymphnode-keras/data/wsi'\n",
    "annotations_paths='/Users/gregoryverghese/Projects/lymphnode-keras/lymphnode-keras/data/annotations'"
   ]
  },
  {
   "cell_type": "code",
   "execution_count": 3,
   "id": "seeing-steel",
   "metadata": {},
   "outputs": [],
   "source": [
    "wsi_paths=glob.glob(os.path.join(wsi_paths,'*'))\n",
    "annotations_paths=glob.glob(os.path.join(annotations_paths,'*'))"
   ]
  },
  {
   "cell_type": "code",
   "execution_count": 4,
   "id": "outstanding-display",
   "metadata": {},
   "outputs": [],
   "source": [
    "#### Need to make sure we are creating classes based on integers\n",
    "#### Need to look into encoding\n",
    "#### problem with class + 1 in rgb2mask\n",
    "#### "
   ]
  },
  {
   "cell_type": "code",
   "execution_count": 5,
   "id": "southeast-cabinet",
   "metadata": {},
   "outputs": [
    {
     "name": "stdout",
     "output_type": "stream",
     "text": [
      "14.90610 C L2.11\n",
      "['/Users/gregoryverghese/Projects/lymphnode-keras/lymphnode-keras/data/annotations/14.90610 C L2.11.json']\n",
      "keys {'sinus': 0, 'GC': 1}\n",
      "dict_keys([1, 0])\n",
      "U_90333_8_B_LOW_8_L1\n",
      "['/Users/gregoryverghese/Projects/lymphnode-keras/lymphnode-keras/data/annotations/U_90333_8_B_LOW_8_L1.json', '/Users/gregoryverghese/Projects/lymphnode-keras/lymphnode-keras/data/annotations/U_90333_8_B_LOW_8_L1.xml']\n",
      "keys {'sinus': 0, 'GERMINAL CENTRE': 1, 'SINUS': 2, 'GC': 3}\n",
      "dict_keys([3, 0, 1, 2])\n"
     ]
    },
    {
     "data": {
      "image/png": "[encoded data removed]",
      "text/plain": [
       "<Figure size 432x288 with 1 Axes>"
      ]
     },
     "metadata": {
      "needs_background": "light"
     },
     "output_type": "display_data"
    }
   ],
   "source": [
    "for p in wsi_paths:\n",
    "    name=os.path.basename(p)[:-5]\n",
    "    print(name)\n",
    "    ann_path=[a for a in annotations_paths if name in a]\n",
    "    print(ann_path)\n",
    "    ann_obj=Annotations(ann_path,source=['imagej','qupath'])\n",
    "    ann_obj.generate_annotations()\n",
    "    ann_obj.filter_labels(['GC', 'sinus', 'GERMINAL CENTRE', 'SINUS'])\n",
    "    ann_obj.encode_keys()\n",
    "    \n",
    "    \n",
    "    annotations=ann_obj._annotations\n",
    "    print(annotations.keys())\n",
    "    wsi=Slide(p,annotations=annotations)\n",
    "    wsi.get_border()\n",
    "    mask=wsi.slide_mask\n",
    "    plt.imshow(mask)\n",
    "    cv2.imwrite(os.path.join(WSI_MASK_PATH,name+'.png'),mask)\n",
    "    \n",
    "    ################Get germinal centres#####################\n",
    "    \n",
    "    ann_obj=Annotations(ann_path,source=['imagej','qupath'])\n",
    "    ann_obj.generate_annotations()\n",
    "    ann_obj.filter_labels(['GC', 'GERMINAL CENTRE'])\n",
    "    annotations=ann_obj._annotations\n",
    "    new_annotations=annotations\n",
    "    if len(ann_path)==2:\n",
    "        new_annotations={}\n",
    "        new_annotations['germinals']=annotations['GC']+annotations['GERMINAL CENTRE']\n",
    "    new_annotations={i: v for i, v in enumerate(new_annotations.values())}\n",
    "    wsi_germs=Slide(p,annotations=new_annotations,draw_border=True)\n",
    "    wsi_germs.get_border()\n",
    "    patches=Patching(wsi_germs,mag_level=MAG_LEVEL,size=SIZE)\n",
    "    num=patches.generate_patches(STEP, mask_flag=True)\n",
    "    print('num patches: {}'.format(num))\n",
    "    patches.save(GERMINAL_PATH,mask_flag=True)\n",
    "    \n",
    "    #################=Get sinuses###############\n",
    "    \n",
    "    ann_obj=Annotations(ann_path,source=['imagej','qupath'])\n",
    "    ann_obj.generate_annotations()\n",
    "    ann_obj.filter_labels(['sinus', 'SINUS'])\n",
    "    annotations=ann_obj._annotations\n",
    "    new_annotations=annotations\n",
    "    if len(ann_path)==2:\n",
    "        new_annotations={}\n",
    "        new_annotations['sinus']=annotations['sinus']+annotations['SINUS']\n",
    "    new_annotations={i: v for i, v in enumerate(new_annotations.values())}\n",
    "    wsi_sinus=Slide(p,annotations=new_annotations,draw_border=True)\n",
    "    print(new_annotations)\n",
    "    wsi_sinus.get_border()\n",
    "    print(\"border\",wsi_sinus._border)\n",
    "    patches=Patching(wsi_sinus,mag_level=MAG_LEVEL,size=SIZE)\n",
    "    num=patches.generate_patches(STEP, mask_flag=True)\n",
    "    print('num patches: {}'.format(num))\n",
    "    patches.save(SINUS_PATH,mask_flag=True)\n",
    "    "
   ]
  },
  {
   "cell_type": "code",
   "execution_count": null,
   "id": "entire-departure",
   "metadata": {},
   "outputs": [],
   "source": []
  },
  {
   "cell_type": "code",
   "execution_count": null,
   "id": "formal-cattle",
   "metadata": {},
   "outputs": [],
   "source": []
  },
  {
   "cell_type": "code",
   "execution_count": null,
   "id": "solar-isaac",
   "metadata": {},
   "outputs": [],
   "source": []
  },
  {
   "cell_type": "code",
   "execution_count": null,
   "id": "quantitative-mining",
   "metadata": {},
   "outputs": [],
   "source": []
  },
  {
   "cell_type": "code",
   "execution_count": null,
   "id": "presidential-medicine",
   "metadata": {},
   "outputs": [],
   "source": []
  },
  {
   "cell_type": "code",
   "execution_count": null,
   "id": "married-recovery",
   "metadata": {},
   "outputs": [],
   "source": []
  },
  {
   "cell_type": "code",
   "execution_count": null,
   "id": "valid-treasure",
   "metadata": {},
   "outputs": [],
   "source": []
  },
  {
   "cell_type": "code",
   "execution_count": null,
   "id": "understood-chapter",
   "metadata": {},
   "outputs": [],
   "source": []
  },
  {
   "cell_type": "code",
   "execution_count": null,
   "id": "removable-bradford",
   "metadata": {},
   "outputs": [],
   "source": []
  },
  {
   "cell_type": "code",
   "execution_count": null,
   "id": "finite-defensive",
   "metadata": {},
   "outputs": [],
   "source": []
  },
  {
   "cell_type": "code",
   "execution_count": null,
   "id": "touched-milton",
   "metadata": {},
   "outputs": [],
   "source": []
  },
  {
   "cell_type": "code",
   "execution_count": null,
   "id": "driving-tours",
   "metadata": {},
   "outputs": [],
   "source": []
  },
  {
   "cell_type": "code",
   "execution_count": null,
   "id": "oriented-spanish",
   "metadata": {},
   "outputs": [],
   "source": []
  },
  {
   "cell_type": "code",
   "execution_count": null,
   "id": "premium-faculty",
   "metadata": {},
   "outputs": [],
   "source": []
  },
  {
   "cell_type": "code",
   "execution_count": null,
   "id": "outstanding-publicity",
   "metadata": {},
   "outputs": [],
   "source": []
  },
  {
   "cell_type": "code",
   "execution_count": null,
   "id": "tropical-exchange",
   "metadata": {},
   "outputs": [],
   "source": []
  },
  {
   "cell_type": "code",
   "execution_count": null,
   "id": "exceptional-evolution",
   "metadata": {},
   "outputs": [],
   "source": []
  },
  {
   "cell_type": "code",
   "execution_count": null,
   "id": "selective-heritage",
   "metadata": {},
   "outputs": [],
   "source": []
  },
  {
   "cell_type": "code",
   "execution_count": null,
   "id": "involved-camel",
   "metadata": {},
   "outputs": [],
   "source": []
  },
  {
   "cell_type": "code",
   "execution_count": null,
   "id": "willing-bunny",
   "metadata": {},
   "outputs": [],
   "source": []
  },
  {
   "cell_type": "code",
   "execution_count": null,
   "id": "spatial-candy",
   "metadata": {},
   "outputs": [],
   "source": []
  },
  {
   "cell_type": "code",
   "execution_count": null,
   "id": "fancy-germany",
   "metadata": {},
   "outputs": [],
   "source": []
  }
 ],
 "metadata": {
  "kernelspec": {
   "display_name": "Python 3",
   "language": "python",
   "name": "python3"
  },
  "language_info": {
   "codemirror_mode": {
    "name": "ipython",
    "version": 3
   },
   "file_extension": ".py",
   "mimetype": "text/x-python",
   "name": "python",
   "nbconvert_exporter": "python",
   "pygments_lexer": "ipython3",
   "version": "3.7.9"
  }
 },
 "nbformat": 4,
 "nbformat_minor": 5
}
